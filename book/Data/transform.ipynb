{
 "cells": [
  {
   "cell_type": "code",
   "execution_count": null,
   "metadata": {},
   "outputs": [],
   "source": [
    "import cupy as cp\n",
    "import pandas as pd\n",
    "from scipy.spatial import cKDTree"
   ]
  },
  {
   "cell_type": "code",
   "execution_count": null,
   "metadata": {},
   "outputs": [],
   "source": [
    "# # Assuming your data is already converted to CuPy arrays\n",
    "# cupy_data = [...]\n",
    "\n",
    "# def get_first_person_data_vectorized(cupy_object_data, observation_range):\n",
    "#     first_person_data = []\n",
    "\n",
    "#     for timestamp_index, timestamp in enumerate(cupy_data):\n",
    "#         # Create a KDTree from object positions\n",
    "#         pos_tree = cKDTree(cp.asnumpy([obj['position'] for obj in timestamp]))\n",
    "\n",
    "#         # Initialize a DataFrame to store relative data\n",
    "#         columns = ['id', 'relative_position', 'relative_momentum']\n",
    "#         df = pd.DataFrame(columns=columns)\n",
    "\n",
    "#         for obj_index, obj in enumerate(timestamp):\n",
    "#             # Query for objects within the observation range\n",
    "#             distances, indices = pos_tree.query_ball_point(obj['position'].get(), r=observation_range)\n",
    "\n",
    "#             # Calculate relative positions and momenta for each observed object using CuPy\n",
    "#             rel_pos = cp.subtract(timestamp[indices]['position'], obj['position'][cp.newaxis, :])\n",
    "#             rel_mom = cp.subtract(timestamp[indices]['momentum'], obj['momentum'][cp.newaxis, :])\n",
    "\n",
    "#             # Convert to NumPy arrays and stack them horizontally\n",
    "#             rel_pos = rel_pos.get().tolist()\n",
    "#             rel_mom = rel_mom.get().tolist()\n",
    "#             rel_data = [[idx, rp, rm] for idx, rp, rm in zip(indices, rel_pos, rel_mom)]\n",
    "\n",
    "#             # Append relative data to the DataFrame\n",
    "#             df = df.append(pd.DataFrame(rel_data, columns=columns))\n",
    "\n",
    "#             # Create the first-person data for the current object\n",
    "#             fp_data = {\n",
    "#                 'id': obj['id'],\n",
    "#                 'timestamp': timestamp_index,\n",
    "#                 'observed_objects': df[df['id'] != obj['id']].to_dict(orient='records')\n",
    "#             }\n",
    "\n",
    "#             # Append the first-person data for this object to the final list\n",
    "#             first_person_data.append(fp_data)\n",
    "\n",
    "#     return first_person_data\n",
    "\n",
    "# # Define the observation range (e.g., in meters)\n",
    "# observation_range = 5.0\n",
    "\n",
    "# # Generate first-person perspective data using vectorized computation\n",
    "# first_person_perspective_vectorized = get_first_person_data_vectorized(cupy_data, observation_range)"
   ]
  }
 ],
 "metadata": {
  "language_info": {
   "name": "python"
  }
 },
 "nbformat": 4,
 "nbformat_minor": 2
}
